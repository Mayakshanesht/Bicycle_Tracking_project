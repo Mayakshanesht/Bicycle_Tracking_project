{
  "nbformat": 4,
  "nbformat_minor": 0,
  "metadata": {
    "colab": {
      "name": "Tutorial_3_Bayes_filter.ipynb",
      "provenance": [],
      "collapsed_sections": [],
      "authorship_tag": "ABX9TyPGTLpBdXSdh45fJoyeTfTe",
      "include_colab_link": true
    },
    "kernelspec": {
      "name": "python3",
      "display_name": "Python 3"
    },
    "language_info": {
      "name": "python"
    }
  },
  "cells": [
    {
      "cell_type": "markdown",
      "metadata": {
        "id": "view-in-github",
        "colab_type": "text"
      },
      "source": [
        "<a href=\"https://colab.research.google.com/github/Mayakshanesht/Bicycle_Tracking_project/blob/main/Tutorial_3_Bayes_filter.ipynb\" target=\"_parent\"><img src=\"https://colab.research.google.com/assets/colab-badge.svg\" alt=\"Open In Colab\"/></a>"
      ]
    },
    {
      "cell_type": "code",
      "metadata": {
        "id": "NOXf07S4dLmB"
      },
      "source": [
        "import numpy as np\n",
        "import matplotlib.pyplot as plt"
      ],
      "execution_count": 1,
      "outputs": []
    },
    {
      "cell_type": "markdown",
      "metadata": {
        "id": "RwvZuiWRuY5u"
      },
      "source": [
        "Bayes Theorem:\n",
        "\n",
        "P(H/Z)=P(Z/H)*P(H)/P(Z)\n",
        "\n",
        "Posterior probability= Likelihood*Prior probability/Normalizer"
      ]
    },
    {
      "cell_type": "code",
      "metadata": {
        "id": "gvXm0SPfdyYm"
      },
      "source": [
        "def plot_bar(pos,x=None,ylim=(0,1),title=None,c='#30a2da',**kwargs):\n",
        "  ax=plt.gca()\n",
        "  if x is None:\n",
        "    x=np.arange(len(pos))\n",
        "  ax.bar(x,pos,color=c,**kwargs)\n",
        "  if ylim:\n",
        "    plt.ylim(ylim)\n",
        "  plt.xticks(np.asarray(x),x)\n",
        "  if title is not None:\n",
        "    plt.title(title)"
      ],
      "execution_count": 2,
      "outputs": []
    },
    {
      "cell_type": "code",
      "metadata": {
        "colab": {
          "base_uri": "https://localhost:8080/",
          "height": 268
        },
        "id": "xXnrIV99fXlk",
        "outputId": "3ad95c41-5501-44f3-9aa6-8f69622d22cf"
      },
      "source": [
        "belief=np.array([1/6,1/6,1/6,1/6,1/6,1/6])\n",
        "plot_bar(belief)"
      ],
      "execution_count": null,
      "outputs": [
        {
          "output_type": "display_data",
          "data": {
            "image/png": "[encoded data removed]",
            "text/plain": [
              "<Figure size 432x288 with 1 Axes>"
            ]
          },
          "metadata": {
            "tags": [],
            "needs_background": "light"
          }
        }
      ]
    },
    {
      "cell_type": "code",
      "metadata": {
        "colab": {
          "base_uri": "https://localhost:8080/"
        },
        "id": "yQyArmQAg7Un",
        "outputId": "1a9a80b8-ff4a-4861-d594-8067c262f053"
      },
      "source": [
        "!pip install filterpy"
      ],
      "execution_count": null,
      "outputs": [
        {
          "output_type": "stream",
          "text": [
            "Requirement already satisfied: filterpy in /usr/local/lib/python3.7/dist-packages (1.4.5)\n",
            "Requirement already satisfied: matplotlib in /usr/local/lib/python3.7/dist-packages (from filterpy) (3.2.2)\n",
            "Requirement already satisfied: numpy in /usr/local/lib/python3.7/dist-packages (from filterpy) (1.19.5)\n",
            "Requirement already satisfied: scipy in /usr/local/lib/python3.7/dist-packages (from filterpy) (1.4.1)\n",
            "Requirement already satisfied: pyparsing!=2.0.4,!=2.1.2,!=2.1.6,>=2.0.1 in /usr/local/lib/python3.7/dist-packages (from matplotlib->filterpy) (2.4.7)\n",
            "Requirement already satisfied: cycler>=0.10 in /usr/local/lib/python3.7/dist-packages (from matplotlib->filterpy) (0.10.0)\n",
            "Requirement already satisfied: kiwisolver>=1.0.1 in /usr/local/lib/python3.7/dist-packages (from matplotlib->filterpy) (1.3.1)\n",
            "Requirement already satisfied: python-dateutil>=2.1 in /usr/local/lib/python3.7/dist-packages (from matplotlib->filterpy) (2.8.1)\n",
            "Requirement already satisfied: six in /usr/local/lib/python3.7/dist-packages (from cycler>=0.10->matplotlib->filterpy) (1.15.0)\n"
          ],
          "name": "stdout"
        }
      ]
    },
    {
      "cell_type": "code",
      "metadata": {
        "id": "LBceHa5akuSg"
      },
      "source": [
        "from filterpy.discrete_bayes import normalize, predict, update"
      ],
      "execution_count": null,
      "outputs": []
    },
    {
      "cell_type": "code",
      "metadata": {
        "id": "oYh4ZbqDlV9A"
      },
      "source": [
        "#lets move one steps\n",
        "def predict1(belief):\n",
        "  prior_belief=predict(belief,offset=1,kernel=[0.8,0.15,0.05])\n",
        "  return prior_belief"
      ],
      "execution_count": null,
      "outputs": []
    },
    {
      "cell_type": "code",
      "metadata": {
        "id": "FcboT-ISl9ob"
      },
      "source": [
        "#lets update with measurement\n",
        "def likelihood():\n",
        "  likelihood=normalize([0.5,0.8,0.4,0.2,0.1,0.1])\n",
        "  return likelihood"
      ],
      "execution_count": null,
      "outputs": []
    },
    {
      "cell_type": "code",
      "metadata": {
        "id": "97DtzrzdmRmK"
      },
      "source": [
        "def update1(likelihood,prior_belief):\n",
        "  posterior_belief=update(likelihood,prior_belief)\n",
        "  return posterior_belief"
      ],
      "execution_count": null,
      "outputs": []
    },
    {
      "cell_type": "code",
      "metadata": {
        "colab": {
          "base_uri": "https://localhost:8080/",
          "height": 268
        },
        "id": "CmUIGwGsqlBM",
        "outputId": "5e5d0dc2-79fc-4a76-a3ee-be20ac15fcba"
      },
      "source": [
        "prior=predict1(belief)\n",
        "like=likelihood()\n",
        "post=update1(like,prior)\n",
        "plot_bar(post)"
      ],
      "execution_count": null,
      "outputs": [
        {
          "output_type": "display_data",
          "data": {
            "image/png": "[encoded data removed]",
            "text/plain": [
              "<Figure size 432x288 with 1 Axes>"
            ]
          },
          "metadata": {
            "tags": [],
            "needs_background": "light"
          }
        }
      ]
    },
    {
      "cell_type": "markdown",
      "metadata": {
        "id": "wnoBdwT7syeA"
      },
      "source": [
        "Gaussian for continuous space"
      ]
    },
    {
      "cell_type": "code",
      "metadata": {
        "colab": {
          "base_uri": "https://localhost:8080/",
          "height": 264
        },
        "id": "qj-fzu6UsxXK",
        "outputId": "1365a97d-bd8f-482c-a943-9ce11c8a141a"
      },
      "source": [
        "from filterpy.stats import add, plot_gaussian_pdf,gaussian\n",
        "mean1 = 3\n",
        "var1 = .1\n",
        "mean2 = 1\n",
        "var2 = .1\n",
        "x=np.arange(0,10,0.1)\n",
        "g1 = gaussian(x, mean=mean1, var=var1)\n",
        "g2 = gaussian(x, mean=mean2, var=var2)\n",
        "\n",
        "def predict_gaussians(mean1, var1, mean2, var2):\n",
        "    mean_sum, var_sum = add(mean1,var1, mean2, var2) # element-wise multiplication\n",
        "    g = gaussian(x, mean=mean_sum, var=var_sum)\n",
        "    return g\n",
        "    \n",
        "g = predict_gaussians(mean1, var1, mean2, var2)\n",
        "\n",
        "plt.plot(g1, label ='g1')\n",
        "plt.plot(g2, label='g2')\n",
        "plt.plot (g, label= 'addition')\n",
        "plt.legend();"
      ],
      "execution_count": null,
      "outputs": [
        {
          "output_type": "display_data",
          "data": {
            "image/png": "[encoded data removed]",
            "text/plain": [
              "<Figure size 432x288 with 1 Axes>"
            ]
          },
          "metadata": {
            "tags": [],
            "needs_background": "light"
          }
        }
      ]
    },
    {
      "cell_type": "code",
      "metadata": {
        "colab": {
          "base_uri": "https://localhost:8080/",
          "height": 264
        },
        "id": "sZsaUaWPtKOn",
        "outputId": "2efa8a5d-ab01-4de6-b32c-ffeccb4f21d8"
      },
      "source": [
        "mean1 = 3\n",
        "var1 = .4\n",
        "mean2 = 4\n",
        "var2 = .9\n",
        "\n",
        "g1 = gaussian(x, mean=mean1, var=var1)\n",
        "g2 = gaussian(x, mean=mean2, var=var2)\n",
        "\n",
        "def update_gaussians(mean1, var1, mean2, var2):\n",
        "    g = g1 * g2  # element-wise multiplication\n",
        "    g = g / sum(g)  # normalize\n",
        "    return g\n",
        "\n",
        "g = update_gaussians(mean1, var2, mean2, var2)\n",
        "plt.plot(g1, label ='g1')\n",
        "plt.plot(g2, label='g2')\n",
        "plt.plot (g, label= 'product')\n",
        "plt.legend();"
      ],
      "execution_count": null,
      "outputs": [
        {
          "output_type": "display_data",
          "data": {
            "image/png": "[encoded data removed]",
            "text/plain": [
              "<Figure size 432x288 with 1 Axes>"
            ]
          },
          "metadata": {
            "tags": [],
            "needs_background": "light"
          }
        }
      ]
    }
  ]
}