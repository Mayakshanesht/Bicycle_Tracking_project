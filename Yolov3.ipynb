{
  "nbformat": 4,
  "nbformat_minor": 0,
  "metadata": {
    "colab": {
      "name": "Yolov3.ipynb",
      "provenance": [],
      "authorship_tag": "ABX9TyPWu7vZv4loGxmq7AzshzEo",
      "include_colab_link": true
    },
    "kernelspec": {
      "name": "python3",
      "display_name": "Python 3"
    },
    "language_info": {
      "name": "python"
    }
  },
  "cells": [
    {
      "cell_type": "markdown",
      "metadata": {
        "id": "view-in-github",
        "colab_type": "text"
      },
      "source": [
        "<a href=\"https://colab.research.google.com/github/Mayakshanesht/Bicycle_Tracking_project/blob/main/Yolov3.ipynb\" target=\"_parent\"><img src=\"https://colab.research.google.com/assets/colab-badge.svg\" alt=\"Open In Colab\"/></a>"
      ]
    },
    {
      "cell_type": "code",
      "metadata": {
        "colab": {
          "base_uri": "https://localhost:8080/"
        },
        "id": "52_BSQuWxNST",
        "outputId": "01eaa504-c0e8-4f06-a8d3-1c08a6f49ce5"
      },
      "source": [
        "import os\n",
        "from google.colab import drive\n",
        "drive.mount('/content/drive')\n"
      ],
      "execution_count": 113,
      "outputs": [
        {
          "output_type": "stream",
          "text": [
            "Drive already mounted at /content/drive; to attempt to forcibly remount, call drive.mount(\"/content/drive\", force_remount=True).\n"
          ],
          "name": "stdout"
        }
      ]
    },
    {
      "cell_type": "code",
      "metadata": {
        "colab": {
          "base_uri": "https://localhost:8080/"
        },
        "id": "NTJGlrFjCtkZ",
        "outputId": "bcea0d31-7dfb-42f7-c383-afc024e2bd94"
      },
      "source": [
        "os.chdir(\"/content/drive/My Drive/YOLO\")\n",
        "!ls"
      ],
      "execution_count": 114,
      "outputs": [
        {
          "output_type": "stream",
          "text": [
            "coco.names\t\t\t mayur1.jpg\t     Tutorial4\n",
            "Data\t\t\t\t mayur_profile.jpg   yolov3.cfg\n",
            "hungarian_tracking_algorithm.py  modified_yolov3.py  yolov3.py\n",
            "Kalman_filter\t\t\t rohit.png\t     yolov3.weights\n"
          ],
          "name": "stdout"
        }
      ]
    },
    {
      "cell_type": "code",
      "metadata": {
        "colab": {
          "base_uri": "https://localhost:8080/"
        },
        "id": "qFWhWqtUVuZn",
        "outputId": "a591d754-48f8-423a-fa1a-a9097a6a4b37"
      },
      "source": [
        "!pip install opencv-python==4.5.2.52"
      ],
      "execution_count": 115,
      "outputs": [
        {
          "output_type": "stream",
          "text": [
            "Requirement already satisfied: opencv-python==4.5.2.52 in /usr/local/lib/python3.7/dist-packages (4.5.2.52)\n",
            "Requirement already satisfied: numpy>=1.14.5 in /usr/local/lib/python3.7/dist-packages (from opencv-python==4.5.2.52) (1.19.5)\n"
          ],
          "name": "stdout"
        }
      ]
    },
    {
      "cell_type": "code",
      "metadata": {
        "id": "vV02L7b9EtrI"
      },
      "source": [
        "import cv2 as cv\n",
        "import matplotlib.pyplot as plt\n",
        "import matplotlib.image as mpimg\n",
        "import numpy as np"
      ],
      "execution_count": 116,
      "outputs": []
    },
    {
      "cell_type": "code",
      "metadata": {
        "id": "JPpz8-CH3fJ9"
      },
      "source": [
        "\n",
        "import copy\n",
        "import pickle\n",
        "import time\n"
      ],
      "execution_count": 117,
      "outputs": []
    },
    {
      "cell_type": "code",
      "metadata": {
        "id": "1TF07coK11V2"
      },
      "source": [
        "#4lets write a class for object detection using YoloV3 with cv.dnn library\n",
        "class YOLO():\n",
        "  def __init__(self):\n",
        "    self.nmsThreshold=0.7\n",
        "    self.confThreshold=0.75\n",
        "    self.inpHeight=416\n",
        "    self.inpWidth=416\n",
        "    self.classes=[]\n",
        "    classes_file=\"/content/drive/My Drive/YOLO/Data/coco.names\"\n",
        "    with open(classes_file,'rt') as f:\n",
        "      self.classes=f.read().rstrip('\\n').split('\\n')\n",
        "    modelConfiguration=\"/content/drive/My Drive/YOLO/Data/yolov3.cfg\"\n",
        "    modelWeights=\"/content/drive/My Drive/YOLO/Data/yolov3.weights\"\n",
        "    self.i=0\n",
        "    self.net=cv.dnn.readNetFromDarknet(modelConfiguration,modelWeights)\n",
        "    self.net.setPreferableBackend(cv.dnn.DNN_BACKEND_OPENCV)\n",
        "    self.net.setPreferableTarget(cv.dnn.DNN_TARGET_CPU)\n",
        "\n",
        "  def getOutputsNames(self):\n",
        "    layerNames=self.net.getLayerNames()\n",
        "    return [layerNames[i[0]-1] for i in self.net.getUnconnectedOutLayers()]\n",
        "  \n",
        "  def drawPred(self, frame, classId, conf, left, top, right, bottom):\n",
        "    # Draw a bounding box.\n",
        "    cv.rectangle(frame, (left, top), (right, bottom), (0, 0, 255), thickness=5)\n",
        "    label = '%.2f' % conf\n",
        "    # Get the label for the class name and its confidence\n",
        "    if self.classes:\n",
        "        assert(classId < len(self.classes))\n",
        "        label = '%s:%s' % (self.classes[classId], label)\n",
        "    labelSize, baseLine = cv.getTextSize(label, cv.FONT_HERSHEY_SIMPLEX, 0.5, 1)\n",
        "    top = max(top, labelSize[1])\n",
        "    cv.putText(frame, label, (left, top), cv.FONT_HERSHEY_SIMPLEX, 1, (255,255,255), thickness=3)\n",
        "    return frame\n",
        "\n",
        "  def postprocess(self,Frame,outs):\n",
        "    FrameHeight=Frame.shape[0]\n",
        "    FrameWidth=Frame.shape[1]\n",
        "    classIds = []\n",
        "    confidences = []\n",
        "    boxes = []\n",
        "    boxes1=[]\n",
        "    global output_image\n",
        "    for out in outs:\n",
        "      for detections in out:\n",
        "        scores=detections[5:]\n",
        "        classId=np.argmax(scores)\n",
        "        confidence=scores[classId]\n",
        "        if ((confidence>self.confThreshold) and (classId==1)):\n",
        "          center_x=int(detections[0]*FrameWidth)\n",
        "          center_y=int(detections[1]*FrameHeight)\n",
        "          width=int(detections[2]*FrameWidth)\n",
        "          height=int(detections[3]*FrameHeight)\n",
        "          left = int(center_x - width / 2)\n",
        "          top = int(center_y - height / 2)\n",
        "          classIds.append(classId)\n",
        "          confidences.append(float(confidence))\n",
        "          boxes.append([left, top, width, height])\n",
        "     \n",
        "     \n",
        "     # Perform non maximum suppression to eliminate redundant overlapping boxes with\n",
        "    # lower confidences.\n",
        "    indices = cv.dnn.NMSBoxes(boxes, confidences, self.confThreshold, self.nmsThreshold)\n",
        "    #print(indices)\n",
        "    for i in indices:\n",
        "        i = i[0]\n",
        "        #print(i)\n",
        "        box = boxes[i]\n",
        "        left = box[0]\n",
        "        top = box[1]\n",
        "        width = box[2]\n",
        "        height = box[3]\n",
        "        output_image = self.drawPred(Frame,classIds[i], confidences[i], left, top, left + width, top + height)\n",
        "        box2=[left, top, left + width, top + height]\n",
        "        boxes1.append(box2)\n",
        "    return output_image,boxes1\n",
        "  \n",
        "  def inference(self,image):\n",
        "      \"\"\"\n",
        "      Main loop.\n",
        "      Input: Image\n",
        "      Output: Frame with the drawn bounding boxes\n",
        "      \"\"\"\n",
        "      # Create a 4D blob from a frame.\n",
        "      blob = cv.dnn.blobFromImage(image, 1/255, (self.inpWidth, self.inpHeight), [0,0,0], 1, crop=False)\n",
        "      # Sets the input to the network\n",
        "      self.net.setInput(blob)\n",
        "      # Runs the forward pass to get output of the output layers\n",
        "      outs = self.net.forward(self.getOutputsNames())\n",
        "      # Remove the bounding boxes with low confidence\n",
        "      final_frame,BB = self.postprocess(image, outs)\n",
        "      self.i +=1\n",
        "      return final_frame,BB\n",
        "    "
      ],
      "execution_count": 118,
      "outputs": []
    },
    {
      "cell_type": "code",
      "metadata": {
        "id": "2yIDaLuo12tK"
      },
      "source": [
        "detector = YOLO()\n",
        "BICYCLE_MEASUREMENTS = []\n",
        "TIMESTAMPS = []\n",
        "\n",
        "def detection(image):\n",
        "    # Run an inference using YOLOv3\n",
        "    result_img, result_boxes = detector.inference(image)\n",
        "    # Store the timestamp\n",
        "    TIMESTAMPS.append(time.time())\n",
        "    # If there is a bounding box, add the center\n",
        "    if len(result_boxes) >0:\n",
        "        BICYCLE_MEASUREMENTS.append([(result_boxes[0][0]+ result_boxes[0][2])/2, (result_boxes[0][1]+ result_boxes[0][3])/2])\n",
        "    # Else, add \"Not detected\"\n",
        "    else:\n",
        "        BICYCLE_MEASUREMENTS.append(\"Not detected\")\n",
        "    return result_img"
      ],
      "execution_count": 119,
      "outputs": []
    },
    {
      "cell_type": "code",
      "metadata": {
        "colab": {
          "base_uri": "https://localhost:8080/"
        },
        "id": "rrH16Huj1_yL",
        "outputId": "4c5fd4c6-9b5c-4043-ebd5-81244ee6133a"
      },
      "source": [
        "from moviepy.editor import VideoFileClip\n",
        "video_file = \"/content/drive/My Drive/YOLO/Kalman_filter/KF/images/VIRAT_S_010204_09_001285_001336.mp4\"\n",
        "clip = VideoFileClip(video_file).subclip(15,25)\n",
        "white_clip = clip.fl_image(detection)\n",
        "#cv.imshow(white_clip)\n",
        "%time white_clip.write_videofile(\"/content/drive/My Drive/YOLO/Kalman_filter/KF/images/detect2.mp4\",audio=False)"
      ],
      "execution_count": 120,
      "outputs": [
        {
          "output_type": "stream",
          "text": [
            "[MoviePy] >>>> Building video /content/drive/My Drive/YOLO/Kalman_filter/KF/images/detect2.mp4\n",
            "[MoviePy] Writing video /content/drive/My Drive/YOLO/Kalman_filter/KF/images/detect2.mp4\n"
          ],
          "name": "stdout"
        },
        {
          "output_type": "stream",
          "text": [
            "\n",
            "  0%|          | 0/240 [00:00<?, ?it/s]\u001b[A\n",
            "  0%|          | 1/240 [00:01<05:34,  1.40s/it]\u001b[A\n",
            "  1%|          | 2/240 [00:02<05:30,  1.39s/it]\u001b[A\n",
            "  1%|▏         | 3/240 [00:04<05:27,  1.38s/it]\u001b[A\n",
            "  2%|▏         | 4/240 [00:05<05:23,  1.37s/it]\u001b[A\n",
            "  2%|▏         | 5/240 [00:06<05:23,  1.38s/it]\u001b[A\n",
            "  2%|▎         | 6/240 [00:08<05:20,  1.37s/it]\u001b[A\n",
            "  3%|▎         | 7/240 [00:09<05:16,  1.36s/it]\u001b[A\n",
            "  3%|▎         | 8/240 [00:10<05:13,  1.35s/it]\u001b[A\n",
            "  4%|▍         | 9/240 [00:12<05:13,  1.36s/it]\u001b[A\n",
            "  4%|▍         | 10/240 [00:13<05:11,  1.35s/it]\u001b[A\n",
            "  5%|▍         | 11/240 [00:14<05:09,  1.35s/it]\u001b[A\n",
            "  5%|▌         | 12/240 [00:16<05:07,  1.35s/it]\u001b[A\n",
            "  5%|▌         | 13/240 [00:17<05:07,  1.36s/it]\u001b[A\n",
            "  6%|▌         | 14/240 [00:19<05:05,  1.35s/it]\u001b[A\n",
            "  6%|▋         | 15/240 [00:20<05:03,  1.35s/it]\u001b[A\n",
            "  7%|▋         | 16/240 [00:21<05:02,  1.35s/it]\u001b[A\n",
            "  7%|▋         | 17/240 [00:23<05:00,  1.35s/it]\u001b[A\n",
            "  8%|▊         | 18/240 [00:24<04:59,  1.35s/it]\u001b[A\n",
            "  8%|▊         | 19/240 [00:25<04:57,  1.35s/it]\u001b[A\n",
            "  8%|▊         | 20/240 [00:27<04:57,  1.35s/it]\u001b[A\n",
            "  9%|▉         | 21/240 [00:28<04:56,  1.35s/it]\u001b[A\n",
            "  9%|▉         | 22/240 [00:29<04:56,  1.36s/it]\u001b[A\n",
            " 10%|▉         | 23/240 [00:31<04:58,  1.38s/it]\u001b[A\n",
            " 10%|█         | 24/240 [00:32<04:59,  1.39s/it]\u001b[A\n",
            " 10%|█         | 25/240 [00:34<05:01,  1.40s/it]\u001b[A\n",
            " 11%|█         | 26/240 [00:35<05:00,  1.40s/it]\u001b[A\n",
            " 11%|█▏        | 27/240 [00:36<05:03,  1.43s/it]\u001b[A\n",
            " 12%|█▏        | 28/240 [00:38<05:00,  1.42s/it]\u001b[A\n",
            " 12%|█▏        | 29/240 [00:39<05:02,  1.43s/it]\u001b[A\n",
            " 12%|█▎        | 30/240 [00:41<05:04,  1.45s/it]\u001b[A\n",
            " 13%|█▎        | 31/240 [00:42<05:02,  1.45s/it]\u001b[A\n",
            " 13%|█▎        | 32/240 [00:44<05:01,  1.45s/it]\u001b[A\n",
            " 14%|█▍        | 33/240 [00:45<04:57,  1.44s/it]\u001b[A\n",
            " 14%|█▍        | 34/240 [00:47<04:55,  1.44s/it]\u001b[A\n",
            " 15%|█▍        | 35/240 [00:48<04:49,  1.41s/it]\u001b[A\n",
            " 15%|█▌        | 36/240 [00:49<04:43,  1.39s/it]\u001b[A\n",
            " 15%|█▌        | 37/240 [00:51<04:40,  1.38s/it]\u001b[A\n",
            " 16%|█▌        | 38/240 [00:52<04:37,  1.37s/it]\u001b[A\n",
            " 16%|█▋        | 39/240 [00:53<04:33,  1.36s/it]\u001b[A\n",
            " 17%|█▋        | 40/240 [00:55<04:30,  1.35s/it]\u001b[A\n",
            " 17%|█▋        | 41/240 [00:56<04:29,  1.35s/it]\u001b[A\n",
            " 18%|█▊        | 42/240 [00:57<04:26,  1.35s/it]\u001b[A\n",
            " 18%|█▊        | 43/240 [00:59<04:30,  1.37s/it]\u001b[A\n",
            " 18%|█▊        | 44/240 [01:00<04:27,  1.37s/it]\u001b[A\n",
            " 19%|█▉        | 45/240 [01:01<04:26,  1.37s/it]\u001b[A\n",
            " 19%|█▉        | 46/240 [01:03<04:23,  1.36s/it]\u001b[A\n",
            " 20%|█▉        | 47/240 [01:04<04:25,  1.37s/it]\u001b[A\n",
            " 20%|██        | 48/240 [01:06<04:27,  1.40s/it]\u001b[A\n",
            " 20%|██        | 49/240 [01:07<04:26,  1.40s/it]\u001b[A\n",
            " 21%|██        | 50/240 [01:08<04:25,  1.40s/it]\u001b[A\n",
            " 21%|██▏       | 51/240 [01:10<04:23,  1.39s/it]\u001b[A\n",
            " 22%|██▏       | 52/240 [01:11<04:22,  1.40s/it]\u001b[A\n",
            " 22%|██▏       | 53/240 [01:13<04:20,  1.39s/it]\u001b[A\n",
            " 22%|██▎       | 54/240 [01:14<04:18,  1.39s/it]\u001b[A\n",
            " 23%|██▎       | 55/240 [01:15<04:16,  1.39s/it]\u001b[A\n",
            " 23%|██▎       | 56/240 [01:17<04:15,  1.39s/it]\u001b[A\n",
            " 24%|██▍       | 57/240 [01:18<04:14,  1.39s/it]\u001b[A\n",
            " 24%|██▍       | 58/240 [01:20<04:12,  1.39s/it]\u001b[A\n",
            " 25%|██▍       | 59/240 [01:21<04:10,  1.38s/it]\u001b[A\n",
            " 25%|██▌       | 60/240 [01:22<04:09,  1.39s/it]\u001b[A\n",
            " 25%|██▌       | 61/240 [01:24<04:06,  1.38s/it]\u001b[A\n",
            " 26%|██▌       | 62/240 [01:25<04:07,  1.39s/it]\u001b[A\n",
            " 26%|██▋       | 63/240 [01:27<04:07,  1.40s/it]\u001b[A\n",
            " 27%|██▋       | 64/240 [01:28<04:05,  1.39s/it]\u001b[A\n",
            " 27%|██▋       | 65/240 [01:29<04:03,  1.39s/it]\u001b[A\n",
            " 28%|██▊       | 66/240 [01:31<04:00,  1.38s/it]\u001b[A\n",
            " 28%|██▊       | 67/240 [01:32<03:59,  1.38s/it]\u001b[A\n",
            " 28%|██▊       | 68/240 [01:33<03:57,  1.38s/it]\u001b[A\n",
            " 29%|██▉       | 69/240 [01:35<03:55,  1.38s/it]\u001b[A\n",
            " 29%|██▉       | 70/240 [01:36<03:53,  1.38s/it]\u001b[A\n",
            " 30%|██▉       | 71/240 [01:38<03:52,  1.37s/it]\u001b[A\n",
            " 30%|███       | 72/240 [01:39<03:52,  1.38s/it]\u001b[A\n",
            " 30%|███       | 73/240 [01:40<03:50,  1.38s/it]\u001b[A\n",
            " 31%|███       | 74/240 [01:42<03:50,  1.39s/it]\u001b[A\n",
            " 31%|███▏      | 75/240 [01:43<03:47,  1.38s/it]\u001b[A\n",
            " 32%|███▏      | 76/240 [01:45<03:47,  1.39s/it]\u001b[A\n",
            " 32%|███▏      | 77/240 [01:46<03:45,  1.38s/it]\u001b[A\n",
            " 32%|███▎      | 78/240 [01:47<03:43,  1.38s/it]\u001b[A\n",
            " 33%|███▎      | 79/240 [01:49<03:42,  1.38s/it]\u001b[A\n",
            " 33%|███▎      | 80/240 [01:50<03:41,  1.38s/it]\u001b[A\n",
            " 34%|███▍      | 81/240 [01:51<03:39,  1.38s/it]\u001b[A\n",
            " 34%|███▍      | 82/240 [01:53<03:38,  1.38s/it]\u001b[A\n",
            " 35%|███▍      | 83/240 [01:54<03:35,  1.37s/it]\u001b[A\n",
            " 35%|███▌      | 84/240 [01:56<03:36,  1.39s/it]\u001b[A\n",
            " 35%|███▌      | 85/240 [01:57<03:33,  1.38s/it]\u001b[A\n",
            " 36%|███▌      | 86/240 [01:58<03:35,  1.40s/it]\u001b[A\n",
            " 36%|███▋      | 87/240 [02:00<03:33,  1.40s/it]\u001b[A\n",
            " 37%|███▋      | 88/240 [02:01<03:31,  1.39s/it]\u001b[A\n",
            " 37%|███▋      | 89/240 [02:03<03:30,  1.40s/it]\u001b[A\n",
            " 38%|███▊      | 90/240 [02:04<03:28,  1.39s/it]\u001b[A\n",
            " 38%|███▊      | 91/240 [02:05<03:25,  1.38s/it]\u001b[A\n",
            " 38%|███▊      | 92/240 [02:07<03:24,  1.38s/it]\u001b[A\n",
            " 39%|███▉      | 93/240 [02:08<03:22,  1.38s/it]\u001b[A\n",
            " 39%|███▉      | 94/240 [02:09<03:21,  1.38s/it]\u001b[A\n",
            " 40%|███▉      | 95/240 [02:11<03:21,  1.39s/it]\u001b[A\n",
            " 40%|████      | 96/240 [02:12<03:20,  1.39s/it]\u001b[A\n",
            " 40%|████      | 97/240 [02:14<03:17,  1.38s/it]\u001b[A\n",
            " 41%|████      | 98/240 [02:15<03:17,  1.39s/it]\u001b[A\n",
            " 41%|████▏     | 99/240 [02:16<03:15,  1.38s/it]\u001b[A\n",
            " 42%|████▏     | 100/240 [02:18<03:13,  1.39s/it]\u001b[A\n",
            " 42%|████▏     | 101/240 [02:19<03:12,  1.38s/it]\u001b[A\n",
            " 42%|████▎     | 102/240 [02:20<03:10,  1.38s/it]\u001b[A\n",
            " 43%|████▎     | 103/240 [02:22<03:08,  1.38s/it]\u001b[A\n",
            " 43%|████▎     | 104/240 [02:23<03:06,  1.37s/it]\u001b[A\n",
            " 44%|████▍     | 105/240 [02:25<03:04,  1.37s/it]\u001b[A\n",
            " 44%|████▍     | 106/240 [02:26<03:03,  1.37s/it]\u001b[A\n",
            " 45%|████▍     | 107/240 [02:27<03:01,  1.37s/it]\u001b[A\n",
            " 45%|████▌     | 108/240 [02:29<03:01,  1.37s/it]\u001b[A\n",
            " 45%|████▌     | 109/240 [02:30<02:59,  1.37s/it]\u001b[A\n",
            " 46%|████▌     | 110/240 [02:31<02:59,  1.38s/it]\u001b[A\n",
            " 46%|████▋     | 111/240 [02:33<02:57,  1.37s/it]\u001b[A\n",
            " 47%|████▋     | 112/240 [02:34<02:55,  1.37s/it]\u001b[A\n",
            " 47%|████▋     | 113/240 [02:36<02:53,  1.37s/it]\u001b[A\n",
            " 48%|████▊     | 114/240 [02:37<02:52,  1.37s/it]\u001b[A\n",
            " 48%|████▊     | 115/240 [02:38<02:50,  1.37s/it]\u001b[A\n",
            " 48%|████▊     | 116/240 [02:40<02:49,  1.37s/it]\u001b[A\n",
            " 49%|████▉     | 117/240 [02:41<02:48,  1.37s/it]\u001b[A\n",
            " 49%|████▉     | 118/240 [02:42<02:48,  1.38s/it]\u001b[A\n",
            " 50%|████▉     | 119/240 [02:44<02:46,  1.37s/it]\u001b[A\n",
            " 50%|█████     | 120/240 [02:45<02:44,  1.37s/it]\u001b[A\n",
            " 50%|█████     | 121/240 [02:47<02:43,  1.37s/it]\u001b[A\n",
            " 51%|█████     | 122/240 [02:48<02:41,  1.37s/it]\u001b[A\n",
            " 51%|█████▏    | 123/240 [02:49<02:39,  1.37s/it]\u001b[A\n",
            " 52%|█████▏    | 124/240 [02:51<02:38,  1.36s/it]\u001b[A\n",
            " 52%|█████▏    | 125/240 [02:52<02:36,  1.36s/it]\u001b[A\n",
            " 52%|█████▎    | 126/240 [02:53<02:35,  1.36s/it]\u001b[A\n",
            " 53%|█████▎    | 127/240 [02:55<02:33,  1.36s/it]\u001b[A\n",
            " 53%|█████▎    | 128/240 [02:56<02:32,  1.36s/it]\u001b[A\n",
            " 54%|█████▍    | 129/240 [02:57<02:31,  1.36s/it]\u001b[A\n",
            " 54%|█████▍    | 130/240 [02:59<02:30,  1.37s/it]\u001b[A\n",
            " 55%|█████▍    | 131/240 [03:00<02:28,  1.37s/it]\u001b[A\n",
            " 55%|█████▌    | 132/240 [03:02<02:27,  1.36s/it]\u001b[A\n",
            " 55%|█████▌    | 133/240 [03:03<02:26,  1.37s/it]\u001b[A\n",
            " 56%|█████▌    | 134/240 [03:04<02:24,  1.36s/it]\u001b[A\n",
            " 56%|█████▋    | 135/240 [03:06<02:23,  1.37s/it]\u001b[A\n",
            " 57%|█████▋    | 136/240 [03:07<02:22,  1.37s/it]\u001b[A\n",
            " 57%|█████▋    | 137/240 [03:08<02:22,  1.38s/it]\u001b[A\n",
            " 57%|█████▊    | 138/240 [03:10<02:20,  1.37s/it]\u001b[A\n",
            " 58%|█████▊    | 139/240 [03:11<02:19,  1.38s/it]\u001b[A\n",
            " 58%|█████▊    | 140/240 [03:13<02:17,  1.38s/it]\u001b[A\n",
            " 59%|█████▉    | 141/240 [03:14<02:16,  1.38s/it]\u001b[A\n",
            " 59%|█████▉    | 142/240 [03:15<02:15,  1.38s/it]\u001b[A\n",
            " 60%|█████▉    | 143/240 [03:17<02:13,  1.38s/it]\u001b[A\n",
            " 60%|██████    | 144/240 [03:18<02:11,  1.37s/it]\u001b[A\n",
            " 60%|██████    | 145/240 [03:19<02:10,  1.38s/it]\u001b[A\n",
            " 61%|██████    | 146/240 [03:21<02:08,  1.37s/it]\u001b[A\n",
            " 61%|██████▏   | 147/240 [03:22<02:07,  1.37s/it]\u001b[A\n",
            " 62%|██████▏   | 148/240 [03:23<02:05,  1.37s/it]\u001b[A\n",
            " 62%|██████▏   | 149/240 [03:25<02:05,  1.37s/it]\u001b[A\n",
            " 62%|██████▎   | 150/240 [03:26<02:03,  1.37s/it]\u001b[A\n",
            " 63%|██████▎   | 151/240 [03:28<02:02,  1.37s/it]\u001b[A\n",
            " 63%|██████▎   | 152/240 [03:29<02:00,  1.37s/it]\u001b[A\n",
            " 64%|██████▍   | 153/240 [03:30<01:58,  1.37s/it]\u001b[A\n",
            " 64%|██████▍   | 154/240 [03:32<01:58,  1.38s/it]\u001b[A\n",
            " 65%|██████▍   | 155/240 [03:33<01:56,  1.37s/it]\u001b[A\n",
            " 65%|██████▌   | 156/240 [03:34<01:55,  1.37s/it]\u001b[A\n",
            " 65%|██████▌   | 157/240 [03:36<01:53,  1.37s/it]\u001b[A\n",
            " 66%|██████▌   | 158/240 [03:37<01:51,  1.36s/it]\u001b[A\n",
            " 66%|██████▋   | 159/240 [03:39<01:50,  1.36s/it]\u001b[A\n",
            " 67%|██████▋   | 160/240 [03:40<01:48,  1.36s/it]\u001b[A\n",
            " 67%|██████▋   | 161/240 [03:41<01:49,  1.38s/it]\u001b[A\n",
            " 68%|██████▊   | 162/240 [03:43<01:48,  1.39s/it]\u001b[A\n",
            " 68%|██████▊   | 163/240 [03:44<01:46,  1.38s/it]\u001b[A\n",
            " 68%|██████▊   | 164/240 [03:45<01:44,  1.38s/it]\u001b[A\n",
            " 69%|██████▉   | 165/240 [03:47<01:43,  1.38s/it]\u001b[A\n",
            " 69%|██████▉   | 166/240 [03:48<01:41,  1.38s/it]\u001b[A\n",
            " 70%|██████▉   | 167/240 [03:50<01:40,  1.37s/it]\u001b[A\n",
            " 70%|███████   | 168/240 [03:51<01:39,  1.38s/it]\u001b[A\n",
            " 70%|███████   | 169/240 [03:52<01:37,  1.38s/it]\u001b[A\n",
            " 71%|███████   | 170/240 [03:54<01:35,  1.37s/it]\u001b[A\n",
            " 71%|███████▏  | 171/240 [03:55<01:34,  1.37s/it]\u001b[A\n",
            " 72%|███████▏  | 172/240 [03:57<01:34,  1.39s/it]\u001b[A\n",
            " 72%|███████▏  | 173/240 [03:58<01:32,  1.38s/it]\u001b[A\n",
            " 72%|███████▎  | 174/240 [03:59<01:31,  1.38s/it]\u001b[A\n",
            " 73%|███████▎  | 175/240 [04:01<01:29,  1.37s/it]\u001b[A\n",
            " 73%|███████▎  | 176/240 [04:02<01:27,  1.37s/it]\u001b[A\n",
            " 74%|███████▍  | 177/240 [04:03<01:26,  1.38s/it]\u001b[A\n",
            " 74%|███████▍  | 178/240 [04:05<01:25,  1.38s/it]\u001b[A\n",
            " 75%|███████▍  | 179/240 [04:06<01:24,  1.38s/it]\u001b[A\n",
            " 75%|███████▌  | 180/240 [04:08<01:22,  1.38s/it]\u001b[A\n",
            " 75%|███████▌  | 181/240 [04:09<01:21,  1.38s/it]\u001b[A\n",
            " 76%|███████▌  | 182/240 [04:10<01:19,  1.37s/it]\u001b[A\n",
            " 76%|███████▋  | 183/240 [04:12<01:17,  1.36s/it]\u001b[A\n",
            " 77%|███████▋  | 184/240 [04:13<01:16,  1.36s/it]\u001b[A\n",
            " 77%|███████▋  | 185/240 [04:14<01:15,  1.36s/it]\u001b[A\n",
            " 78%|███████▊  | 186/240 [04:16<01:13,  1.37s/it]\u001b[A\n",
            " 78%|███████▊  | 187/240 [04:17<01:12,  1.37s/it]\u001b[A\n",
            " 78%|███████▊  | 188/240 [04:18<01:11,  1.37s/it]\u001b[A\n",
            " 79%|███████▉  | 189/240 [04:20<01:09,  1.37s/it]\u001b[A\n",
            " 79%|███████▉  | 190/240 [04:21<01:08,  1.37s/it]\u001b[A\n",
            " 80%|███████▉  | 191/240 [04:23<01:06,  1.36s/it]\u001b[A\n",
            " 80%|████████  | 192/240 [04:24<01:06,  1.39s/it]\u001b[A\n",
            " 80%|████████  | 193/240 [04:25<01:05,  1.39s/it]\u001b[A\n",
            " 81%|████████  | 194/240 [04:27<01:03,  1.38s/it]\u001b[A\n",
            " 81%|████████▏ | 195/240 [04:28<01:02,  1.38s/it]\u001b[A\n",
            " 82%|████████▏ | 196/240 [04:29<01:00,  1.38s/it]\u001b[A\n",
            " 82%|████████▏ | 197/240 [04:31<00:59,  1.38s/it]\u001b[A\n",
            " 82%|████████▎ | 198/240 [04:32<00:57,  1.38s/it]\u001b[A\n",
            " 83%|████████▎ | 199/240 [04:34<00:56,  1.37s/it]\u001b[A\n",
            " 83%|████████▎ | 200/240 [04:35<00:54,  1.37s/it]\u001b[A\n",
            " 84%|████████▍ | 201/240 [04:36<00:53,  1.38s/it]\u001b[A\n",
            " 84%|████████▍ | 202/240 [04:38<00:52,  1.39s/it]\u001b[A\n",
            " 85%|████████▍ | 203/240 [04:39<00:51,  1.38s/it]\u001b[A\n",
            " 85%|████████▌ | 204/240 [04:41<00:49,  1.38s/it]\u001b[A\n",
            " 85%|████████▌ | 205/240 [04:42<00:48,  1.38s/it]\u001b[A\n",
            " 86%|████████▌ | 206/240 [04:43<00:47,  1.38s/it]\u001b[A\n",
            " 86%|████████▋ | 207/240 [04:45<00:45,  1.38s/it]\u001b[A\n",
            " 87%|████████▋ | 208/240 [04:46<00:44,  1.38s/it]\u001b[A\n",
            " 87%|████████▋ | 209/240 [04:47<00:42,  1.37s/it]\u001b[A\n",
            " 88%|████████▊ | 210/240 [04:49<00:41,  1.38s/it]\u001b[A\n",
            " 88%|████████▊ | 211/240 [04:50<00:40,  1.38s/it]\u001b[A\n",
            " 88%|████████▊ | 212/240 [04:52<00:38,  1.37s/it]\u001b[A\n",
            " 89%|████████▉ | 213/240 [04:53<00:37,  1.37s/it]\u001b[A\n",
            " 89%|████████▉ | 214/240 [04:54<00:35,  1.37s/it]\u001b[A\n",
            " 90%|████████▉ | 215/240 [04:56<00:34,  1.39s/it]\u001b[A\n",
            " 90%|█████████ | 216/240 [04:57<00:33,  1.38s/it]\u001b[A\n",
            " 90%|█████████ | 217/240 [04:58<00:31,  1.37s/it]\u001b[A\n",
            " 91%|█████████ | 218/240 [05:00<00:30,  1.37s/it]\u001b[A\n",
            " 91%|█████████▏| 219/240 [05:01<00:28,  1.37s/it]\u001b[A\n",
            " 92%|█████████▏| 220/240 [05:03<00:27,  1.37s/it]\u001b[A\n",
            " 92%|█████████▏| 221/240 [05:04<00:26,  1.37s/it]\u001b[A\n",
            " 92%|█████████▎| 222/240 [05:05<00:24,  1.36s/it]\u001b[A\n",
            " 93%|█████████▎| 223/240 [05:07<00:23,  1.37s/it]\u001b[A\n",
            " 93%|█████████▎| 224/240 [05:08<00:21,  1.37s/it]\u001b[A\n",
            " 94%|█████████▍| 225/240 [05:09<00:20,  1.36s/it]\u001b[A\n",
            " 94%|█████████▍| 226/240 [05:11<00:19,  1.36s/it]\u001b[A\n",
            " 95%|█████████▍| 227/240 [05:12<00:17,  1.37s/it]\u001b[A\n",
            " 95%|█████████▌| 228/240 [05:13<00:16,  1.37s/it]\u001b[A\n",
            " 95%|█████████▌| 229/240 [05:15<00:15,  1.37s/it]\u001b[A\n",
            " 96%|█████████▌| 230/240 [05:16<00:13,  1.36s/it]\u001b[A\n",
            " 96%|█████████▋| 231/240 [05:18<00:12,  1.38s/it]\u001b[A\n",
            " 97%|█████████▋| 232/240 [05:19<00:11,  1.38s/it]\u001b[A\n",
            " 97%|█████████▋| 233/240 [05:20<00:09,  1.38s/it]\u001b[A\n",
            " 98%|█████████▊| 234/240 [05:22<00:08,  1.37s/it]\u001b[A\n",
            " 98%|█████████▊| 235/240 [05:23<00:06,  1.37s/it]\u001b[A\n",
            " 98%|█████████▊| 236/240 [05:24<00:05,  1.36s/it]\u001b[A\n",
            " 99%|█████████▉| 237/240 [05:26<00:04,  1.36s/it]\u001b[A\n",
            " 99%|█████████▉| 238/240 [05:27<00:02,  1.36s/it]\u001b[A\n",
            "100%|█████████▉| 239/240 [05:29<00:01,  1.37s/it]\u001b[A\n",
            "100%|██████████| 240/240 [05:30<00:00,  1.38s/it]\n"
          ],
          "name": "stderr"
        },
        {
          "output_type": "stream",
          "text": [
            "[MoviePy] Done.\n",
            "[MoviePy] >>>> Video ready: /content/drive/My Drive/YOLO/Kalman_filter/KF/images/detect2.mp4 \n",
            "\n",
            "CPU times: user 10min 3s, sys: 6.46 s, total: 10min 10s\n",
            "Wall time: 5min 31s\n"
          ],
          "name": "stdout"
        }
      ]
    },
    {
      "cell_type": "code",
      "metadata": {
        "id": "nQe63Wr_Dase",
        "outputId": "b6740e4a-00f2-4b5b-ef15-4549f94bc1e2",
        "colab": {
          "base_uri": "https://localhost:8080/"
        }
      },
      "source": [
        "A=BICYCLE_MEASUREMENTS\n",
        "print(BICYCLE_MEASUREMENTS)\n",
        "T=TIMESTAMPS\n",
        "print(TIMESTAMPS)"
      ],
      "execution_count": 121,
      "outputs": [
        {
          "output_type": "stream",
          "text": [
            "['Not detected', 'Not detected', 'Not detected', 'Not detected', [281.0, 322.5], [284.5, 323.5], [285.0, 324.0], [287.5, 324.0], [299.5, 326.5], [303.0, 327.0], [305.0, 326.5], [307.0, 327.0], [310.5, 326.5], [313.5, 323.5], [325.0, 323.5], [324.0, 326.5], [327.0, 327.0], [332.5, 327.0], [337.5, 323.5], [341.0, 324.0], [349.5, 325.5], [351.5, 325.5], [353.5, 325.0], [356.0, 325.0], [359.0, 325.0], [363.0, 325.0], [365.0, 322.5], [366.0, 322.5], [365.5, 322.0], [373.0, 325.5], [374.0, 325.0], [378.0, 324.5], [380.5, 323.5], [382.0, 323.5], [383.0, 324.0], [384.0, 323.0], [387.0, 322.0], [389.5, 322.0], 'Not detected', 'Not detected', [396.0, 322.5], [397.5, 323.5], [398.5, 323.0], [402.0, 322.5], [407.0, 336.0], [407.5, 335.5], [412.0, 336.0], [413.0, 336.5], [412.0, 339.5], 'Not detected', [421.5, 336.0], [422.0, 336.0], [424.0, 336.0], [428.5, 336.5], [430.0, 337.0], [434.0, 337.5], 'Not detected', 'Not detected', 'Not detected', 'Not detected', 'Not detected', 'Not detected', 'Not detected', 'Not detected', 'Not detected', 'Not detected', 'Not detected', 'Not detected', 'Not detected', 'Not detected', 'Not detected', 'Not detected', 'Not detected', 'Not detected', 'Not detected', 'Not detected', 'Not detected', 'Not detected', 'Not detected', 'Not detected', 'Not detected', 'Not detected', 'Not detected', 'Not detected', 'Not detected', 'Not detected', 'Not detected', 'Not detected', 'Not detected', 'Not detected', 'Not detected', 'Not detected', 'Not detected', 'Not detected', 'Not detected', 'Not detected', 'Not detected', 'Not detected', 'Not detected', 'Not detected', 'Not detected', 'Not detected', 'Not detected', 'Not detected', 'Not detected', 'Not detected', 'Not detected', 'Not detected', 'Not detected', 'Not detected', 'Not detected', 'Not detected', 'Not detected', 'Not detected', 'Not detected', 'Not detected', [605.0, 380.0], [607.0, 381.0], [608.0, 381.0], [612.0, 380.0], [612.0, 380.0], 'Not detected', 'Not detected', 'Not detected', [625.5, 392.0], [628.0, 380.5], [630.0, 393.5], [633.0, 393.0], [635.0, 394.0], [637.0, 394.0], [637.0, 395.0], [644.0, 397.0], [644.0, 397.0], [646.0, 395.5], [647.5, 394.5], 'Not detected', 'Not detected', 'Not detected', 'Not detected', 'Not detected', 'Not detected', 'Not detected', 'Not detected', 'Not detected', 'Not detected', 'Not detected', [675.0, 422.5], [679.5, 422.5], [680.5, 424.5], [683.0, 424.5], [685.0, 426.0], [686.0, 432.0], [695.0, 433.5], [694.5, 434.5], [696.5, 437.0], 'Not detected', 'Not detected', [705.0, 421.5], [708.0, 423.0], [709.0, 424.5], [712.5, 427.0], [715.0, 426.5], [716.0, 429.5], 'Not detected', [722.0, 434.0], [724.5, 433.5], 'Not detected', 'Not detected', 'Not detected', 'Not detected', 'Not detected', 'Not detected', [747.5, 455.0], 'Not detected', 'Not detected', 'Not detected', 'Not detected', 'Not detected', 'Not detected', 'Not detected', 'Not detected', 'Not detected', 'Not detected', 'Not detected', 'Not detected', 'Not detected', 'Not detected', 'Not detected', 'Not detected', 'Not detected', 'Not detected', 'Not detected', 'Not detected', 'Not detected', 'Not detected', 'Not detected', 'Not detected', 'Not detected', 'Not detected', 'Not detected', 'Not detected', 'Not detected', 'Not detected', 'Not detected', 'Not detected', 'Not detected', 'Not detected', 'Not detected', 'Not detected', [845.5, 588.5], [852.0, 589.5], [857.0, 591.5], [864.0, 621.0], [868.0, 622.0], [874.0, 624.0], 'Not detected', 'Not detected', [897.5, 622.5], [909.0, 651.0], [919.5, 651.0], [928.0, 626.5], 'Not detected', 'Not detected', 'Not detected', [971.5, 641.0], 'Not detected', 'Not detected', [1008.5, 685.0], [1008.5, 685.0], [1018.5, 688.0], 'Not detected', 'Not detected', 'Not detected', 'Not detected', 'Not detected', 'Not detected', 'Not detected', 'Not detected', 'Not detected', 'Not detected', 'Not detected']\n",
            "[1624273479.2369697, 1624273480.7055483, 1624273482.0672784, 1624273483.433938, 1624273484.7819433, 1624273486.1676812, 1624273487.5182416, 1624273488.8564172, 1624273490.1956477, 1624273491.557053, 1624273492.9038062, 1624273494.2518795, 1624273495.598949, 1624273496.9693189, 1624273498.3103724, 1624273499.6534405, 1624273501.0045617, 1624273502.3478634, 1624273503.693898, 1624273505.0414615, 1624273506.4037228, 1624273507.7584295, 1624273509.1419003, 1624273510.551348, 1624273511.9670131, 1624273513.39533, 1624273514.8109314, 1624273516.2862828, 1624273517.676308, 1624273519.1523619, 1624273520.6372654, 1624273522.0755403, 1624273523.5286262, 1624273524.9417849, 1624273526.371349, 1624273527.7308164, 1624273529.074879, 1624273530.4263241, 1624273531.7847981, 1624273533.120502, 1624273534.4530864, 1624273535.808361, 1624273537.1386764, 1624273538.5769763, 1624273539.9271207, 1624273541.296509, 1624273542.6390057, 1624273544.0456553, 1624273545.4906757, 1624273546.8865411, 1624273548.2898962, 1624273549.6725748, 1624273551.075997, 1624273552.4676898, 1624273553.846326, 1624273555.231869, 1624273556.6154869, 1624273558.0203688, 1624273559.403342, 1624273560.7677324, 1624273562.160847, 1624273563.5255003, 1624273564.9468622, 1624273566.3608804, 1624273567.742211, 1624273569.1236386, 1624273570.491283, 1624273571.8743873, 1624273573.2501998, 1624273574.6254406, 1624273575.9942675, 1624273577.3665144, 1624273578.7722323, 1624273580.142763, 1624273581.5459607, 1624273582.9146404, 1624273584.3119035, 1624273585.6817677, 1624273587.0626736, 1624273588.4365094, 1624273589.8266242, 1624273591.2010486, 1624273592.584134, 1624273593.9436722, 1624273595.3585696, 1624273596.724184, 1624273598.1670687, 1624273599.5573087, 1624273600.943723, 1624273602.3462193, 1624273603.7178023, 1624273605.080374, 1624273606.471006, 1624273607.8425283, 1624273609.2204695, 1624273610.6388636, 1624273612.0228739, 1624273613.3956132, 1624273614.8057191, 1624273616.1696768, 1624273617.5600514, 1624273618.9371488, 1624273620.2994492, 1624273621.6816955, 1624273623.0389588, 1624273624.3956852, 1624273625.7705688, 1624273627.1334236, 1624273628.514614, 1624273629.8798146, 1624273631.293434, 1624273632.6449351, 1624273634.0135307, 1624273635.3689768, 1624273636.7358828, 1624273638.1017995, 1624273639.47383, 1624273640.8404298, 1624273642.2407215, 1624273643.60681, 1624273644.9624689, 1624273646.3440595, 1624273647.7002604, 1624273649.0592535, 1624273650.4177952, 1624273651.7637413, 1624273653.1418962, 1624273654.5010495, 1624273655.8663166, 1624273657.2276013, 1624273658.6148584, 1624273659.970183, 1624273661.3297, 1624273662.714973, 1624273664.0593288, 1624273665.437908, 1624273666.816362, 1624273668.21465, 1624273669.5818987, 1624273670.9634082, 1624273672.3425121, 1624273673.7186408, 1624273675.1052358, 1624273676.4793403, 1624273677.830599, 1624273679.219748, 1624273680.5789537, 1624273681.9375515, 1624273683.3012357, 1624273684.6966922, 1624273686.0507216, 1624273687.4383652, 1624273688.7917275, 1624273690.1504674, 1624273691.5498908, 1624273692.901842, 1624273694.2885695, 1624273695.6338103, 1624273696.989133, 1624273698.3494372, 1624273699.7103524, 1624273701.1379275, 1624273702.5384655, 1624273703.899263, 1624273705.2773466, 1624273706.6670818, 1624273708.0293107, 1624273709.3945017, 1624273710.774224, 1624273712.1624613, 1624273713.5097017, 1624273714.893219, 1624273716.3138947, 1624273717.6929293, 1624273719.069045, 1624273720.4256635, 1624273721.8004887, 1624273723.1829982, 1624273724.571378, 1624273725.9546928, 1624273727.3272426, 1624273728.698664, 1624273730.0496187, 1624273731.403172, 1624273732.7633824, 1624273734.1239967, 1624273735.5071986, 1624273736.8901105, 1624273738.2479806, 1624273739.6291606, 1624273740.978729, 1624273742.3331637, 1624273743.8002236, 1624273745.1748438, 1624273746.5509417, 1624273747.9273791, 1624273749.2932878, 1624273750.686672, 1624273752.0491412, 1624273753.3998196, 1624273754.787404, 1624273756.18551, 1624273757.5964577, 1624273758.9541795, 1624273760.3256822, 1624273761.7228515, 1624273763.1093848, 1624273764.4838903, 1624273765.855895, 1624273767.2211385, 1624273768.5996413, 1624273769.9898863, 1624273771.3488894, 1624273772.7145228, 1624273774.0656533, 1624273775.5020602, 1624273776.876309, 1624273778.2318764, 1624273779.5981524, 1624273780.962266, 1624273782.3390143, 1624273783.6998725, 1624273785.0441294, 1624273786.4322722, 1624273787.79108, 1624273789.1464686, 1624273790.5116343, 1624273791.8873315, 1624273793.253418, 1624273794.6188464, 1624273795.9722092, 1624273797.3828614, 1624273798.7696638, 1624273800.135773, 1624273801.492075, 1624273802.869542, 1624273804.2152174, 1624273805.5746973, 1624273806.9368153, 1624273808.3134823, 1624273809.690476]\n"
          ],
          "name": "stdout"
        }
      ]
    },
    {
      "cell_type": "code",
      "metadata": {
        "id": "Y4lZYv8R2Ga5"
      },
      "source": [
        "BICYCLE_MEASUREMENTS = [[264.0, 320.5], 'Not detected', [276.5, 324.0], [278.0, 323.5], [281.0, 322.5], [284.5, 323.5], [285.0, 324.0], [287.5, 324.0], [299.5, 326.5], [303.0, 327.0], [305.0, 326.5], [307.0, 327.0], [310.5, 326.5], [313.5, 323.5], [325.0, 323.5], [324.0, 326.5], [327.0, 327.0], [332.5, 327.0], [337.5, 323.5], [341.0, 324.0], [349.5, 325.5], [351.5, 325.5], [353.5, 325.0], [356.0, 325.0], [359.0, 325.0], [363.0, 325.0], [365.0, 322.5], [366.0, 322.5], [365.5, 322.0], [373.0, 325.5], [374.0, 325.0], [378.0, 324.5], [380.5, 323.5], [382.0, 323.5], [383.0, 324.0], [384.0, 323.0], [387.0, 322.0], [389.5, 322.0], [390.0, 321.5], [395.0, 324.0], [396.0, 322.5], [397.5, 323.5], [398.5, 323.0], [402.0, 322.5], [407.0, 336.0], [407.5, 335.5], [412.0, 336.0], [413.0, 336.5], [412.0, 339.5], [420.5, 337.0], [421.5, 336.0], [422.0, 336.0], [424.0, 336.0], [428.5, 336.5], [430.0, 337.0], [434.0, 337.5], [434.5, 337.0], [437.5, 336.5], [438.5, 336.0], 'Not detected', 'Not detected', [451.5, 336.5], [454.0, 336.5], 'Not detected', 'Not detected', [460.0, 336.5], 'Not detected', [462.5, 336.0], 'Not detected', 'Not detected', [473.0, 336.0], 'Not detected', 'Not detected', 'Not detected', [483.0, 335.5], 'Not detected', 'Not detected', 'Not detected', 'Not detected', 'Not detected', 'Not detected', 'Not detected', 'Not detected', 'Not detected', 'Not detected', 'Not detected', 'Not detected', 'Not detected', 'Not detected', 'Not detected', 'Not detected', 'Not detected', [527.5, 351.0], 'Not detected', 'Not detected', 'Not detected', 'Not detected', 'Not detected', 'Not detected', 'Not detected', 'Not detected', 'Not detected', 'Not detected', 'Not detected', 'Not detected', 'Not detected', 'Not detected', 'Not detected', 'Not detected', 'Not detected', 'Not detected', 'Not detected', 'Not detected', [596.0, 381.0], [597.0, 365.0], [600.0, 380.0], [605.0, 380.0], [607.0, 381.0], [608.0, 381.0], [612.0, 380.0], [612.0, 380.0], [619.0, 383.0], [620.0, 382.5], [624.0, 392.0], [625.5, 392.0], [628.0, 380.5], [630.0, 393.5], [633.0, 393.0], [635.0, 394.0], [637.0, 394.0], [637.0, 395.0], [644.0, 397.0], [644.0, 397.0], [646.0, 395.5], [647.5, 394.5], [651.5, 393.5], 'Not detected', [655.0, 407.0], [656.0, 391.0], 'Not detected', 'Not detected', 'Not detected', 'Not detected', [669.0, 410.0], [669.0, 410.0], [673.0, 419.5], [675.0, 422.5], [679.5, 422.5], [680.5, 424.5], [683.0, 424.5], [685.0, 426.0], [686.0, 432.0], [695.0, 433.5], [694.5, 434.5], [696.5, 437.0], [700.0, 421.5], [700.0, 421.5], [705.0, 421.5], [708.0, 423.0], [709.0, 424.5], [712.5, 427.0], [715.0, 426.5], [716.0, 429.5], [718.5, 431.5], [722.0, 434.0], [724.5, 433.5], [725.0, 434.5], 'Not detected', 'Not detected', 'Not detected', [744.0, 466.0], [745.5, 453.0], [747.5, 455.0], [749.5, 453.5], [752.0, 455.0], [750.5, 457.0], 'Not detected', 'Not detected', 'Not detected', [761.0, 475.5], [761.0, 475.5], [762.5, 475.5], [764.0, 478.0], 'Not detected', 'Not detected', 'Not detected', 'Not detected', 'Not detected', 'Not detected', 'Not detected', 'Not detected', 'Not detected', 'Not detected', 'Not detected', 'Not detected', 'Not detected', 'Not detected', 'Not detected', 'Not detected', [805.5, 537.0], [809.5, 536.5], [811.0, 536.5], [815.0, 538.0], 'Not detected', 'Not detected', [825.5, 563.0], 'Not detected', [842.5, 567.0], [844.5, 571.0], [845.5, 588.5], [852.0, 589.5], [857.0, 591.5], [864.0, 621.0], [868.0, 622.0], [874.0, 624.0], [891.0, 620.5], [891.0, 620.5], [897.5, 622.5], [909.0, 651.0], [919.5, 651.0], [928.0, 626.5], 'Not detected', [948.0, 648.5], [955.5, 647.0], [971.5, 641.0], [976.5, 678.0], [993.0, 682.0], [1008.5, 685.0], [1008.5, 685.0], [1018.5, 688.0], [1048.5, 687.5], 'Not detected', 'Not detected', 'Not detected', 'Not detected', 'Not detected', 'Not detected', 'Not detected', 'Not detected', 'Not detected', 'Not detected']\n",
        "TIMESTAMPS = [1595343383.4528093, 1595343385.1370091, 1595343386.7868967, 1595343388.4632287, 1595343390.1011188, 1595343391.7460542, 1595343393.39343, 1595343395.028878, 1595343396.6552625, 1595343398.311383, 1595343399.9449534, 1595343401.5756452, 1595343403.253039, 1595343404.8913975, 1595343406.5174625, 1595343408.1842604, 1595343409.8111398, 1595343411.4432359, 1595343413.068713, 1595343414.6940196, 1595343416.3461204, 1595343417.9728732, 1595343419.6360095, 1595343421.2727242, 1595343422.934089, 1595343424.5932963, 1595343426.2158902, 1595343427.882905, 1595343429.5383394, 1595343431.1689167, 1595343432.7992053, 1595343434.4365535, 1595343436.093556, 1595343437.739813, 1595343439.3699863, 1595343441.026304, 1595343442.6605077, 1595343444.2896566, 1595343445.9262085, 1595343447.5629303, 1595343449.1896112, 1595343450.838177, 1595343452.4649684, 1595343454.2198577, 1595343455.8605254, 1595343457.4931364, 1595343459.137956, 1595343460.8218405, 1595343462.4845269, 1595343464.1445982, 1595343465.8397083, 1595343467.4892106, 1595343469.1747668, 1595343470.8333223, 1595343472.5270133, 1595343474.1908607, 1595343475.8525598, 1595343477.520469, 1595343479.1996396, 1595343480.9057856, 1595343482.604339, 1595343484.2830782, 1595343485.9620562, 1595343487.6216116, 1595343489.285687, 1595343490.9448197, 1595343492.599015, 1595343494.262499, 1595343495.9328613, 1595343497.604377, 1595343499.2598104, 1595343500.919045, 1595343502.5755124, 1595343504.2685933, 1595343505.9388247, 1595343507.6111808, 1595343509.727008, 1595343512.6301236, 1595343515.2081826, 1595343516.8960044, 1595343518.562933, 1595343520.223518, 1595343521.8825817, 1595343523.5388012, 1595343525.2359374, 1595343526.9006064, 1595343528.5632, 1595343530.250608, 1595343531.9128368, 1595343533.5599396, 1595343535.2325077, 1595343536.8938165, 1595343538.5590377, 1595343540.213533, 1595343541.8728576, 1595343543.534645, 1595343545.2209647, 1595343546.886572, 1595343548.5626056, 1595343550.2205744, 1595343551.8829527, 1595343553.5659046, 1595343555.2469, 1595343556.9008927, 1595343558.5652347, 1595343560.2281246, 1595343561.8948984, 1595343563.5591393, 1595343565.215573, 1595343566.8824282, 1595343568.5690107, 1595343570.2471654, 1595343571.9168723, 1595343573.5790687, 1595343575.2646444, 1595343576.9260058, 1595343578.6006463, 1595343580.262466, 1595343581.9326503, 1595343583.6091404, 1595343585.3043597, 1595343586.98645, 1595343588.677084, 1595343590.3740606, 1595343592.2494593, 1595343594.0968316, 1595343595.9687498, 1595343597.7663443, 1595343599.5230067, 1595343601.2006478, 1595343602.8708787, 1595343604.5619361, 1595343606.240997, 1595343607.9550593, 1595343609.640338, 1595343611.3281717, 1595343612.9923398, 1595343614.6791606, 1595343616.3586695, 1595343618.03751, 1595343619.7365143, 1595343621.4086063, 1595343623.0755863, 1595343624.7747118, 1595343626.4529173, 1595343628.1450953, 1595343629.8409429, 1595343631.5103605, 1595343633.2032287, 1595343634.8988585, 1595343636.5533113, 1595343638.2447634, 1595343639.9315574, 1595343641.6105409, 1595343643.3112786, 1595343644.9819617, 1595343646.6454144, 1595343648.3410013, 1595343650.0291924, 1595343651.7229924, 1595343653.4247396, 1595343655.0940385, 1595343656.766598, 1595343658.481635, 1595343660.1688697, 1595343661.851529, 1595343663.533179, 1595343665.2161155, 1595343666.9030716, 1595343668.6122663, 1595343670.3100102, 1595343671.9878461, 1595343673.6751158, 1595343675.361766, 1595343677.0522666, 1595343678.7405472, 1595343680.4148567, 1595343682.0903854, 1595343683.766348, 1595343685.4356513, 1595343687.1099372, 1595343688.82005, 1595343690.4986932, 1595343692.191855, 1595343693.8794398, 1595343695.5785794, 1595343697.2438045, 1595343698.998921, 1595343700.696096, 1595343702.375422, 1595343704.0798686, 1595343705.765661, 1595343707.4556317, 1595343709.2128184, 1595343710.8825693, 1595343712.5990374, 1595343714.2921202, 1595343715.9963896, 1595343717.6725974, 1595343719.3480031, 1595343721.0423503, 1595343722.7256033, 1595343724.4065895, 1595343726.0711443, 1595343727.7579536, 1595343729.4652514, 1595343731.1564894, 1595343732.8382416, 1595343734.516435, 1595343736.182922, 1595343737.882777, 1595343739.5695834, 1595343741.241596, 1595343742.9077015, 1595343744.5780733, 1595343746.2444737, 1595343747.9014044, 1595343749.56856, 1595343751.2365348, 1595343752.9167588, 1595343754.582135, 1595343756.2607112, 1595343757.9484925, 1595343759.6065814, 1595343761.2696397, 1595343762.9366505, 1595343764.5937672, 1595343766.266156, 1595343767.931009, 1595343769.606072, 1595343771.286105, 1595343772.9624963, 1595343774.622179, 1595343776.2862227, 1595343777.9396627, 1595343779.597795, 1595343781.266818, 1595343782.9147005, 1595343784.5958788, 1595343786.2695682, 1595343787.937123]"
      ],
      "execution_count": 122,
      "outputs": []
    },
    {
      "cell_type": "code",
      "metadata": {
        "colab": {
          "base_uri": "https://localhost:8080/"
        },
        "id": "JWnCBUl72HKJ",
        "outputId": "36a654c0-3c17-4492-8148-e01f1781f07f"
      },
      "source": [
        "!pip install filterpy"
      ],
      "execution_count": 123,
      "outputs": [
        {
          "output_type": "stream",
          "text": [
            "Requirement already satisfied: filterpy in /usr/local/lib/python3.7/dist-packages (1.4.5)\n",
            "Requirement already satisfied: scipy in /usr/local/lib/python3.7/dist-packages (from filterpy) (1.4.1)\n",
            "Requirement already satisfied: numpy in /usr/local/lib/python3.7/dist-packages (from filterpy) (1.19.5)\n",
            "Requirement already satisfied: matplotlib in /usr/local/lib/python3.7/dist-packages (from filterpy) (3.2.2)\n",
            "Requirement already satisfied: pyparsing!=2.0.4,!=2.1.2,!=2.1.6,>=2.0.1 in /usr/local/lib/python3.7/dist-packages (from matplotlib->filterpy) (2.4.7)\n",
            "Requirement already satisfied: python-dateutil>=2.1 in /usr/local/lib/python3.7/dist-packages (from matplotlib->filterpy) (2.8.1)\n",
            "Requirement already satisfied: kiwisolver>=1.0.1 in /usr/local/lib/python3.7/dist-packages (from matplotlib->filterpy) (1.3.1)\n",
            "Requirement already satisfied: cycler>=0.10 in /usr/local/lib/python3.7/dist-packages (from matplotlib->filterpy) (0.10.0)\n",
            "Requirement already satisfied: six>=1.5 in /usr/local/lib/python3.7/dist-packages (from python-dateutil>=2.1->matplotlib->filterpy) (1.15.0)\n"
          ],
          "name": "stdout"
        }
      ]
    },
    {
      "cell_type": "code",
      "metadata": {
        "id": "GrkVY2c42SVz"
      },
      "source": [
        "from filterpy.kalman import KalmanFilter\n",
        "from scipy.linalg import block_diag\n",
        "from filterpy.common import Q_discrete_white_noise\n",
        "import numpy as np\n",
        "import matplotlib.pyplot as plt"
      ],
      "execution_count": 124,
      "outputs": []
    },
    {
      "cell_type": "code",
      "metadata": {
        "id": "y1vYdzL_I52q"
      },
      "source": [
        "class CustomKalmanFilter():\n",
        "  def __init__(self,dim_x,dim_z,dim_u=0):\n",
        "    #dim_x=4\n",
        "    #dim_z =2\n",
        "    #dim_u = 0\n",
        "    self.x = np.zeros(dim_x)\n",
        "    self.P = np.eye(dim_x)*500\n",
        "    Q_std = 0.01\n",
        "    R_std = 10\n",
        "    dt=float(sum(np.diff(TIMESTAMPS))/(len(TIMESTAMPS)))\n",
        "    self.R = np.eye(dim_z)*R_std**2\n",
        "    q = Q_discrete_white_noise(dim=dim_x/2,dt=dt,var=Q_std**2)\n",
        "    self.Q = block_diag(q, q)\n",
        "    self.F = np.array([[1,dt,0,0],\n",
        "                     [0,1,0,0],\n",
        "                     [0,0,1,dt],\n",
        "                     [0,0,0,1]])\n",
        "    self.H = np.array([[1,0,0,0],\n",
        "                    [0,0,1,0]])\n",
        "    self.y=np.zeros(dim_z)\n",
        "    self.S=np.array([[0.,0.],[0.,0.]])\n",
        "    self.K=np.zeros((dim_x,dim_z))\n",
        "  \n",
        "  def predict(self):\n",
        "    self.x=np.dot(self.F,self.x)\n",
        "    self.P=np.dot(np.dot(self.F,self.P),self.F.T)+self.Q\n",
        "\n",
        "  def update(self,z):\n",
        "    self.y=z-np.dot(self.H,self.x)\n",
        "    self.S=np.dot(np.dot(self.H,self.P),self.H.T)+self.R\n",
        "    self.K=np.dot(np.dot(self.P,self.H.T),np.linalg.inv(self.S))\n",
        "    self.x+=np.dot(self.K,self.y)\n",
        "    self.P=np.dot((np.eye(4)-np.dot(self.K,self.H)),self.P)"
      ],
      "execution_count": 125,
      "outputs": []
    },
    {
      "cell_type": "code",
      "metadata": {
        "id": "dt0mikia2S_7"
      },
      "source": [
        "kf = CustomKalmanFilter(4,2,0)\n",
        "kf.x = np.array([BICYCLE_MEASUREMENTS[0][0], 0, BICYCLE_MEASUREMENTS[0][1], 0])"
      ],
      "execution_count": 126,
      "outputs": []
    },
    {
      "cell_type": "code",
      "metadata": {
        "id": "UL0YENZq2WVu"
      },
      "source": [
        "ctr = 0\n",
        "def main1(image):\n",
        "    global kf\n",
        "    global ctr\n",
        "    meas = BICYCLE_MEASUREMENTS[ctr] \n",
        "    if meas == \"Not detected\":\n",
        "        kf.predict()\n",
        "        cv.circle(image, (int(kf.x[0]), int(kf.x[2])), 5, (255,0,0), -1)\n",
        "    else:\n",
        "        z = np.array((meas[0], meas[1]))\n",
        "        kf.update(z)\n",
        "        cv.circle(image, (int(kf.x[0]), int(kf.x[2])), 5, (0,0,255), -1)\n",
        "        kf.predict()\n",
        "        cv.circle(image, (int(kf.x[0]), int(kf.x[2])), 5, (255,0,0), -1)\n",
        "    ctr+=1\n",
        "    return image"
      ],
      "execution_count": 129,
      "outputs": []
    },
    {
      "cell_type": "code",
      "metadata": {
        "colab": {
          "base_uri": "https://localhost:8080/"
        },
        "id": "jcT9phGn2Yxx",
        "outputId": "94025376-16d5-43fe-ca08-dadf42e808f7"
      },
      "source": [
        "from moviepy.editor import VideoFileClip\n",
        "video_file = \"/content/drive/My Drive/YOLO/Kalman_filter/KF/images/detect2.mp4\"\n",
        "clip = VideoFileClip(video_file)\n",
        "tracked_clip = clip.fl_image(main1)\n",
        "%time tracked_clip.write_videofile(\"/content/drive/My Drive/YOLO/Kalman_filter/KF/images/track5.mp4\",audio=False)"
      ],
      "execution_count": 130,
      "outputs": [
        {
          "output_type": "stream",
          "text": [
            "[MoviePy] >>>> Building video /content/drive/My Drive/YOLO/Kalman_filter/KF/images/track5.mp4\n",
            "[MoviePy] Writing video /content/drive/My Drive/YOLO/Kalman_filter/KF/images/track5.mp4\n"
          ],
          "name": "stdout"
        },
        {
          "output_type": "stream",
          "text": [
            "\n",
            "  0%|          | 0/241 [00:00<?, ?it/s]\u001b[A\n",
            "  2%|▏         | 6/241 [00:00<00:04, 52.14it/s]\u001b[A\n",
            "  5%|▍         | 11/241 [00:00<00:04, 49.12it/s]\u001b[A\n",
            "  7%|▋         | 16/241 [00:00<00:04, 46.97it/s]\u001b[A\n",
            "  9%|▊         | 21/241 [00:00<00:04, 47.56it/s]\u001b[A\n",
            " 11%|█         | 26/241 [00:00<00:04, 47.04it/s]\u001b[A\n",
            " 13%|█▎        | 32/241 [00:00<00:04, 48.45it/s]\u001b[A\n",
            " 15%|█▌        | 37/241 [00:00<00:04, 47.37it/s]\u001b[A\n",
            " 17%|█▋        | 42/241 [00:00<00:04, 47.70it/s]\u001b[A\n",
            " 20%|█▉        | 47/241 [00:01<00:05, 32.81it/s]\u001b[A\n",
            " 21%|██        | 51/241 [00:01<00:07, 25.64it/s]\u001b[A\n",
            " 23%|██▎       | 55/241 [00:01<00:09, 20.00it/s]\u001b[A\n",
            " 24%|██▍       | 58/241 [00:01<00:10, 17.51it/s]\u001b[A\n",
            " 25%|██▌       | 61/241 [00:02<00:10, 16.59it/s]\u001b[A\n",
            " 26%|██▌       | 63/241 [00:02<00:11, 15.18it/s]\u001b[A\n",
            " 27%|██▋       | 65/241 [00:02<00:12, 14.41it/s]\u001b[A\n",
            " 28%|██▊       | 68/241 [00:02<00:10, 15.92it/s]\u001b[A\n",
            " 29%|██▉       | 70/241 [00:02<00:11, 14.61it/s]\u001b[A\n",
            " 30%|███       | 73/241 [00:02<00:09, 17.17it/s]\u001b[A\n",
            " 32%|███▏      | 76/241 [00:03<00:09, 16.53it/s]\u001b[A\n",
            " 33%|███▎      | 79/241 [00:03<00:09, 17.90it/s]\u001b[A\n",
            " 34%|███▍      | 82/241 [00:03<00:08, 19.70it/s]\u001b[A\n",
            " 36%|███▌      | 86/241 [00:03<00:06, 22.18it/s]\u001b[A\n",
            " 37%|███▋      | 89/241 [00:03<00:07, 20.22it/s]\u001b[A\n",
            " 38%|███▊      | 92/241 [00:03<00:07, 21.15it/s]\u001b[A\n",
            " 39%|███▉      | 95/241 [00:03<00:06, 21.91it/s]\u001b[A\n",
            " 41%|████      | 98/241 [00:03<00:06, 21.41it/s]\u001b[A\n",
            " 42%|████▏     | 101/241 [00:04<00:06, 20.29it/s]\u001b[A\n",
            " 43%|████▎     | 104/241 [00:04<00:06, 22.04it/s]\u001b[A\n",
            " 45%|████▍     | 108/241 [00:04<00:05, 23.32it/s]\u001b[A\n",
            " 46%|████▌     | 111/241 [00:04<00:05, 24.68it/s]\u001b[A\n",
            " 47%|████▋     | 114/241 [00:04<00:05, 23.05it/s]\u001b[A\n",
            " 49%|████▊     | 117/241 [00:04<00:05, 20.83it/s]\u001b[A\n",
            " 50%|████▉     | 120/241 [00:05<00:06, 19.87it/s]\u001b[A\n",
            " 51%|█████     | 123/241 [00:05<00:06, 18.83it/s]\u001b[A\n",
            " 52%|█████▏    | 125/241 [00:05<00:06, 17.83it/s]\u001b[A\n",
            " 53%|█████▎    | 127/241 [00:05<00:06, 18.01it/s]\u001b[A\n",
            " 54%|█████▎    | 129/241 [00:05<00:06, 16.58it/s]\u001b[A\n",
            " 54%|█████▍    | 131/241 [00:05<00:06, 17.07it/s]\u001b[A\n",
            " 55%|█████▌    | 133/241 [00:05<00:06, 16.14it/s]\u001b[A\n",
            " 56%|█████▋    | 136/241 [00:05<00:06, 16.99it/s]\u001b[A\n",
            " 58%|█████▊    | 139/241 [00:06<00:05, 18.22it/s]\u001b[A\n",
            " 59%|█████▉    | 142/241 [00:06<00:05, 19.80it/s]\u001b[A\n",
            " 60%|██████    | 145/241 [00:06<00:05, 18.89it/s]\u001b[A\n",
            " 61%|██████▏   | 148/241 [00:06<00:04, 19.15it/s]\u001b[A\n",
            " 63%|██████▎   | 151/241 [00:06<00:04, 20.46it/s]\u001b[A\n",
            " 64%|██████▍   | 154/241 [00:06<00:04, 20.16it/s]\u001b[A\n",
            " 65%|██████▌   | 157/241 [00:07<00:04, 18.87it/s]\u001b[A\n",
            " 66%|██████▋   | 160/241 [00:07<00:04, 18.62it/s]\u001b[A\n",
            " 68%|██████▊   | 163/241 [00:07<00:04, 15.65it/s]\u001b[A\n",
            " 68%|██████▊   | 165/241 [00:07<00:04, 15.30it/s]\u001b[A\n",
            " 70%|██████▉   | 168/241 [00:07<00:04, 16.32it/s]\u001b[A\n",
            " 71%|███████   | 171/241 [00:07<00:04, 15.89it/s]\u001b[A\n",
            " 72%|███████▏  | 174/241 [00:08<00:04, 16.67it/s]\u001b[A\n",
            " 73%|███████▎  | 176/241 [00:08<00:04, 15.46it/s]\u001b[A\n",
            " 74%|███████▍  | 179/241 [00:08<00:03, 17.00it/s]\u001b[A\n",
            " 75%|███████▌  | 181/241 [00:08<00:03, 17.38it/s]\u001b[A\n",
            " 76%|███████▌  | 183/241 [00:08<00:03, 15.34it/s]\u001b[A\n",
            " 78%|███████▊  | 187/241 [00:08<00:02, 18.23it/s]\u001b[A\n",
            " 79%|███████▉  | 191/241 [00:08<00:02, 21.22it/s]\u001b[A\n",
            " 80%|████████  | 194/241 [00:09<00:02, 18.29it/s]\u001b[A\n",
            " 82%|████████▏ | 198/241 [00:09<00:02, 20.12it/s]\u001b[A\n",
            " 83%|████████▎ | 201/241 [00:09<00:02, 18.70it/s]\u001b[A\n",
            " 85%|████████▍ | 204/241 [00:09<00:02, 17.94it/s]\u001b[A\n",
            " 85%|████████▌ | 206/241 [00:09<00:02, 16.68it/s]\u001b[A\n",
            " 86%|████████▋ | 208/241 [00:09<00:02, 14.03it/s]\u001b[A\n",
            " 87%|████████▋ | 210/241 [00:10<00:02, 14.51it/s]\u001b[A\n",
            " 88%|████████▊ | 212/241 [00:10<00:02, 14.42it/s]\u001b[A\n",
            " 89%|████████▉ | 214/241 [00:10<00:01, 14.97it/s]\u001b[A\n",
            " 90%|████████▉ | 216/241 [00:10<00:01, 14.92it/s]\u001b[A\n",
            " 90%|█████████ | 218/241 [00:10<00:01, 13.46it/s]\u001b[A\n",
            " 91%|█████████▏| 220/241 [00:10<00:01, 14.11it/s]\u001b[A\n",
            " 92%|█████████▏| 222/241 [00:10<00:01, 13.79it/s]\u001b[A\n",
            " 93%|█████████▎| 225/241 [00:11<00:00, 16.32it/s]\u001b[A\n",
            " 94%|█████████▍| 227/241 [00:11<00:00, 15.11it/s]\u001b[A\n",
            " 95%|█████████▌| 229/241 [00:11<00:00, 15.99it/s]\u001b[A\n",
            " 96%|█████████▌| 231/241 [00:11<00:00, 15.68it/s]\u001b[A\n",
            " 98%|█████████▊| 235/241 [00:11<00:00, 18.30it/s]\u001b[A\n",
            "100%|█████████▉| 240/241 [00:11<00:00, 20.41it/s]\n"
          ],
          "name": "stderr"
        },
        {
          "output_type": "stream",
          "text": [
            "[MoviePy] Done.\n",
            "[MoviePy] >>>> Video ready: /content/drive/My Drive/YOLO/Kalman_filter/KF/images/track5.mp4 \n",
            "\n",
            "CPU times: user 2.27 s, sys: 6.23 s, total: 8.5 s\n",
            "Wall time: 12.8 s\n"
          ],
          "name": "stdout"
        }
      ]
    }
  ]
}